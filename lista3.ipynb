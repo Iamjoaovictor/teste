{
 "cells": [
  {
   "cell_type": "markdown",
   "metadata": {},
   "source": [
    "<h1 style=\"text-align: center\">INSTITUTO FEDERAL DO CEARÁ</h1>\n",
    "<h2 style=\"text-align: center\">CAMPUS MARANGUAPE</h2>\n",
    "<h3 style=\"text-align: center\">Programação Orientada a Objetos</h3>\n",
    "<h3 style=\"text-align: center\">Prof. Thomaz Maia</h3>\n",
    "<h1 style=\"text-align: center\">Lista de Exercícios 3 - IF</h1>"
   ]
  },
  {
   "cell_type": "markdown",
   "metadata": {},
   "source": [
    "**Aluno: João Victor Lima Gaspar**"
   ]
  },
  {
   "cell_type": "markdown",
   "metadata": {},
   "source": [
    "**1. Crie um programa que leia três valores e verifique se esses valores formam um triângulo.**"
   ]
  },
  {
   "cell_type": "code",
   "execution_count": 5,
   "metadata": {},
   "outputs": [],
   "source": [
    "valor_1 = float(input(\"Digite o valor 1: \"))\n",
    "valor_2 = float(input(\"Digite o valor 2: \"))\n",
    "valor_3 = float(input(\"Digite o valor 3: \"))"
   ]
  },
  {
   "cell_type": "code",
   "execution_count": 6,
   "metadata": {},
   "outputs": [
    {
     "name": "stdout",
     "output_type": "stream",
     "text": [
      "Os valores foram 3.0, 1.0 e 6.0, não formam um triângulo!\n"
     ]
    }
   ],
   "source": [
    "if (valor_1 + valor_2 > valor_3) and (valor_1 + valor_3 > valor_2) and (valor_2 + valor_3 > valor_1):\n",
    "    print(f\"Os valores foram {valor_1}, {valor_2} e {valor_3}, formam um triângulo!\")\n",
    "else:\n",
    "    print(f\"Os valores foram {valor_1}, {valor_2} e {valor_3}, não formam um triângulo!\") "
   ]
  }
 ],
 "metadata": {
  "kernelspec": {
   "display_name": "Python 3",
   "language": "python",
   "name": "python3"
  },
  "language_info": {
   "codemirror_mode": {
    "name": "ipython",
    "version": 3
   },
   "file_extension": ".py",
   "mimetype": "text/x-python",
   "name": "python",
   "nbconvert_exporter": "python",
   "pygments_lexer": "ipython3",
   "version": "3.11.5"
  }
 },
 "nbformat": 4,
 "nbformat_minor": 2
}
